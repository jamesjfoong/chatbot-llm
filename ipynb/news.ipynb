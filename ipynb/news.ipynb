{
 "cells": [
  {
   "cell_type": "code",
   "execution_count": 10,
   "metadata": {},
   "outputs": [
    {
     "name": "stdout",
     "output_type": "stream",
     "text": [
      "{'source': {'id': 'google-news', 'name': 'Google News'}, 'author': 'The New York Times', 'title': 'Middle East Crisis Israel and Hezbollah Exchange Strikes Amid Fears of Escalation - The New York Times', 'description': None, 'url': 'https://news.google.com/rss/articles/CBMifEFVX3lxTE1nck9leDlJNF9CcFYyTVFNTTNBN1ZLc0hUOEFCVnpRRmtXMXlJcXdFN212b0MxbDhvbXpFLWozQmxZVGVUU2VNU2RPM2tYU0dRMkQwSERtUVNZWE4tN2pmR2dYUzFsc1U2bnFlNS13Qm1kXzJrb0dRaTVtSVY?oc=5', 'urlToImage': None, 'publishedAt': '2024-08-22T00:13:50Z', 'content': None}\n",
      "{'source': {'id': 'google-news', 'name': 'Google News'}, 'author': 'Fox News', 'title': 'Alex Rodriguez shares timely Instagram post after ex-fiancée Jennifer Lopez files for divorce from Ben Affleck - Fox News', 'description': None, 'url': 'https://news.google.com/rss/articles/CBMivwFBVV95cUxQNXlURVJjQkZ1OVNhbWphOVhnbVBGb0lCX2VjSmdaQ3ltR3IwdEw5U0pjb2N1OWhWZXFFbmo5eUt4bEVOUDhFT0RtMGxnTGlMeFh4cUZ6Z2dHWjhqN2l3X0ozWjlvRTJ4UldJNDg2WEtGazd0dVRqcjVuR3daNXZDWldkSnZ3UFVicW5yWUVvcFlUbC1mdlVFcHByMkppMjAyNW43UEtDWE1QdmVwR2xILWFUS0xVYjlWVHJXa0tiONIBxAFBVV95cUxNN1Bydzh4T2ZLTmJNNkRSbGFLSkdDNmZfaFRaaC1KM01uVDI4Ml9OVlRydXNJWC1nS0dqQVpQR2x1eGllYURYRVdFa2pvaDN5cE9oanN4VFNQeHl3OUJiWWg5TGh2QnZVejhhTUoxQ1dZcG9zUWVIVFN3QUhDd1RzZHdYeHlkNmtwTzRRMUdEWGo3N0pCTGJ1YTYzMnk3ekY0MEJzRUVjS1FQajhCOTFPWS1VbHVXeEVvSUZYS2dRR1Y5ckQw?oc=5', 'urlToImage': None, 'publishedAt': '2024-08-22T00:05:00Z', 'content': None}\n",
      "{'source': {'id': 'google-news', 'name': 'Google News'}, 'author': 'MLB.com', 'title': 'Joey Votto, former MVP and face of Reds, officially retires - MLB.com', 'description': None, 'url': 'https://news.google.com/rss/articles/CBMiaEFVX3lxTFAyd21ja1VIQmtFZlBLU0w0eEExdXJkcEpES2NINEwzVW56T2NQYU1oQjlhbzVRX0RYVVpjckJLZWMtSVZiSDhJNzBTa3FmQ0RXcW5EY2dlTjJQZDBOZmdXSWlCbXZmRklG?oc=5', 'urlToImage': None, 'publishedAt': '2024-08-21T23:23:42Z', 'content': None}\n",
      "{'source': {'id': 'google-news', 'name': 'Google News'}, 'author': 'Hollywood Reporter', 'title': 'Taylor Swift Says Canceling Vienna Tour Dates After Planned Terrorist Attack “Filled Me With a New Sense of Fear” - Hollywood Reporter', 'description': None, 'url': 'https://news.google.com/rss/articles/CBMizAFBVV95cUxNcmRKQVRqZ2RxY1VuUGlWSFZQbEpqMXdRU2ZISFFYT0ptdmxpUXBBVTRIRlZxaXY5ZWYyaUU2WXNSSzdpWlJHbUtub2hJVUsxdmdmWkZBWVFEOEFNZ0l6WTdkSVo2OTRQS3NhRzNSZmlJMEh6RjZ5b0FEVFFlR21QMUtDVUdiZFRveWIwbVVzV2FuaDFLQzYxWEFqQlZpQmtYb3hZaDIwMEd5WFp1dXpLa3FuX2FFWmFhZW5tWUgzQUc4S0lFSGw5LVIySXPSAdIBQVVfeXFMTWgycldORzNSYUZ2RFowRmlnWUZZbERaLUJLT0RyWVlmRFJBZU9tTkptSkhodjlPTHJTWklFLXFMVklkVnllNkV2WFVxZkFqREZ6ODFldFpIdEpCMUs2cDFfancxVnlFc0dybnhOTDFUdjQ0ZXdZbDc1MkkxSnJYNWlMeEZUQzFmUmZPeEc1UTdIZm5KU21jSmNNcnlRek1nSC1UUDNwMWxBb2RHMXhUaG5XOFdETmszWDFZT2V6cDBwUkpGOEYzZ2pOcDlFVzBqd2lR?oc=5', 'urlToImage': None, 'publishedAt': '2024-08-21T23:03:45Z', 'content': None}\n",
      "{'source': {'id': 'google-news', 'name': 'Google News'}, 'author': 'The Wall Street Journal', 'title': 'Exclusive | Edgar Bronfman Raises Offer for National Amusements, Paramount Stake to $6 Billion - The Wall Street Journal', 'description': None, 'url': 'https://news.google.com/rss/articles/CBMiwgFBVV95cUxOclNmVVItQnN3UEFRQ1lnS0tWcFhKYWN5Z0xFeV9jTmVYYkE2czVnbWRMMkJoRE1YeUJESmtsdUJJRHJuSFZKcDczY2lGSGR4eEIxNWVqeXZ2UUtMQklHeUJUdldBRGRoRURuaVM5N0NRYjk5RTk3dGN6VXhMZmY2VmpBaWh3Z0x2UmluUDZPQkc4WEVha0h2cnR6dS1HQ2U2NmdsLThNbkVyUVRlbmpCVC1Rb0VhTzBuYWQ1OXpEd1o4Zw?oc=5', 'urlToImage': None, 'publishedAt': '2024-08-21T22:50:00Z', 'content': None}\n",
      "{'source': {'id': 'google-news', 'name': 'Google News'}, 'author': 'The Washington Post', 'title': 'Family sues judge who ordered teen to be handcuffed after she fell asleep - The Washington Post', 'description': None, 'url': 'https://news.google.com/rss/articles/CBMijgFBVV95cUxPTzB4TmlzQjQzTkRSekVEaXdtRTVJVWZEODgwQ0gtZHl5Mlh5UUJFY21YNnRiSk9CR1psZWctaFVtRVJWWGQ3ZkwxREEySmo0T29La3lzX0RJRWk4d3Ixc1MyOTdnQ3cxOTBTRXp4cW9rOXhNaFNxM0V5SHU3RFFfT2FXRUQ0WXNtZlhDTjlR?oc=5', 'urlToImage': None, 'publishedAt': '2024-08-21T22:42:41Z', 'content': None}\n",
      "{'source': {'id': 'google-news', 'name': 'Google News'}, 'author': 'The Associated Press', 'title': 'Divers recover 5 bodies from wrecked superyacht off Sicily; 1 still missing - The Associated Press', 'description': None, 'url': 'https://news.google.com/rss/articles/CBMilwFBVV95cUxOU21XTzRpU0dFSENleUh0NGdRNHpzTFpsMlc5bnVmU20ycktZaXV5MEhOd1BsWTUtU1pCWGxoZjFrWHVoRVcwbTdvbkxjaExONHFRQXhmblczdEpKdDdKNTV3bDZPaG9SVWMxZW15VTJxc2hCNm5NUmlURm9idXdIOWYyMTJkRmgtSjVxUzY4Z2NoTXYtcWpZ?oc=5', 'urlToImage': None, 'publishedAt': '2024-08-21T22:35:00Z', 'content': None}\n",
      "{'source': {'id': 'google-news', 'name': 'Google News'}, 'author': 'CNN', 'title': 'An unusual object is moving so fast it could escape the Milky Way. Scientists aren’t certain what it is - CNN', 'description': None, 'url': 'https://news.google.com/rss/articles/CBMijgFBVV95cUxNaldVYUxUcVVqaGhjamhhVFg3QWVTcnpqYXFHWnk2QW9KMi0yS2FQNE5ZY0pUcWhjN3N4akY4akE0OTNhdmtEZzBzV3lEczhPSmp4TU0wNElkMnRma2REY3NxUS1PLTd0R3htdTZCT29aaE1XeUFtWC1SYUZ4cFlNdDdLdWp2RXBrSTdDN0J30gGEAUFVX3lxTE9GQlJSQURyMVNReWFleGJNWWdPLThacW1Fa0NBTlBjY0V3NkRkQ3ZVNHdIM1VzTDhvWDFuNGVoREFnYmhMU2Z0Nkw4VUN3S0h1anBzX3RIMENuOHNwRFlsUG1vbGNObkdaVzY1S3VCbTh6WnVBejZGRkw4ZXg1THRveHVYOQ?oc=5', 'urlToImage': None, 'publishedAt': '2024-08-21T22:08:00Z', 'content': None}\n",
      "{'source': {'id': 'google-news', 'name': 'Google News'}, 'author': 'The Hill', 'title': 'Hospitals cheer noncompete ruling - The Hill', 'description': None, 'url': 'https://news.google.com/rss/articles/CBMijwFBVV95cUxNdURnMDFhNTZ2RHlVeUtWcVg5bmVuT3R0YzFJdTBMVTI1bmlFNGh2cUwyWHZHelAxTGsxVmRwS09MWE1JWjVvRUtrZXZvM3NuLUpBNTVxUFFqbDA1UWNieU90SUtOSWxGTWM4WVAxRWJjOVlfY1VKazNVekpCeS1DMGlJakVoRy1pcFdubEwwWdIBlAFBVV95cUxQcUFxY0R0QU5NMG9GTEFkSU9YMzRDcHNlZUhLRFBYaEs2UGUyM25aSGxEeG9yaHFMNFozQm1ISm5iT1lReGtxR1ZmOWJqZHhMSElLNFFUNVhvaWxhTHRXV09JS0RKQVZ6R0NFZzBobzZWQmRyQ0tla01obmJiaE11Z3pvSmVFNzM1dGhOaWpBTTByT2hn?oc=5', 'urlToImage': None, 'publishedAt': '2024-08-21T22:05:00Z', 'content': None}\n",
      "{'source': {'id': 'google-news', 'name': 'Google News'}, 'author': 'The New York Times', 'title': 'Donald Trump, Back at an Outdoor Rally, Returns to Familiar Habits - The New York Times', 'description': None, 'url': 'https://news.google.com/rss/articles/CBMihAFBVV95cUxOTTk1a3k1UTBDT1NMRFN1TW91M1NnaUNtaWJrUEhKc3B1Z3otSGxfV1RCVkZheVprbFVuYi1iNENzb2dySEN0cW0wSDZabHozRVd5Y0lVN0xNLWhoVHhfTFNveG96ek8wRUF2TW9TUFdmWU4tU1UxNkNLUGN2dUthb0d6X24?oc=5', 'urlToImage': None, 'publishedAt': '2024-08-21T21:47:58Z', 'content': None}\n"
     ]
    }
   ],
   "source": [
    "from newsapi import NewsApiClient\n",
    "import os\n",
    "\n",
    "newsapi = NewsApiClient(api_key=os.getenv(\"NEWS_API_KEY\"))\n",
    "top_headlines = newsapi.get_top_headlines(language='en', page_size=10)\n",
    "\n",
    "for article in top_headlines['articles']:\n",
    "    print(article)"
   ]
  },
  {
   "cell_type": "code",
   "execution_count": null,
   "metadata": {},
   "outputs": [],
   "source": []
  }
 ],
 "metadata": {
  "kernelspec": {
   "display_name": "chatbot",
   "language": "python",
   "name": "python3"
  },
  "language_info": {
   "codemirror_mode": {
    "name": "ipython",
    "version": 3
   },
   "file_extension": ".py",
   "mimetype": "text/x-python",
   "name": "python",
   "nbconvert_exporter": "python",
   "pygments_lexer": "ipython3",
   "version": "3.10.12"
  }
 },
 "nbformat": 4,
 "nbformat_minor": 2
}
