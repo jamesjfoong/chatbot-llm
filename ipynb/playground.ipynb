{
 "cells": [
  {
   "cell_type": "code",
   "execution_count": 1,
   "metadata": {},
   "outputs": [
    {
     "name": "stdout",
     "output_type": "stream",
     "text": [
      "Welcome to the AI Chatbot! type 'exit' to quit.\n",
      "AI:  Nice to meet you! I'm an AI assistant trained to provide information and answer questions to the best of my abilities. I don't have a personal identity or physical presence, but I'm here to help with any topic or inquiry you'd like to discuss!\n",
      "AI:  Creating an LLM (Large Language Model) app sounds like an exciting project! There are several options for building an LLM app, depending on your goals and technical expertise. Here are a few suggestions:\n",
      "\n",
      "1. **Rasa**: Rasa is an open-source conversational AI framework that allows you to build contextual chatbots. You can integrate it with an LLM model to create a more advanced language processing system.\n",
      "2. **Dialogflow** (formerly known as API.ai): Dialogflow is a Google-developed platform for building conversational interfaces. It provides a visual interface for designing conversations and integrates well with LLM models.\n",
      "3. **Microsoft Bot Framework**: The Microsoft Bot Framework is another popular choice for building chatbots. You can use it to create an LLM-powered bot that interacts with users through various channels, such as messaging platforms or web applications.\n",
      "4. **Hugging Face Transformers**: Hugging Face provides a suite of libraries and models for natural language processing (NLP) tasks. You can use their Transformer-based architectures to build your own LLM app.\n",
      "\n",
      "When choosing an option, consider factors like:\n",
      "\n",
      "* Your programming language of choice\n",
      "* The level of customization you need\n",
      "* The type of interactions you want to enable (e.g., text, voice, or both)\n",
      "* The target platforms and devices you want to support\n",
      "\n",
      "Which one of these options resonates with you the most?\n"
     ]
    }
   ],
   "source": [
    "from langchain_ollama import OllamaLLM\n",
    "from langchain_core.prompts import ChatPromptTemplate\n",
    "\n",
    "template = '''\n",
    "Answer the question below\n",
    "\n",
    "Here is the conversation history: {context}\n",
    "\n",
    "Question: {question}\n",
    "\n",
    "Answer:\n",
    "'''\n",
    "\n",
    "model = OllamaLLM(model=\"llama3\")\n",
    "prompt = ChatPromptTemplate.from_template(template)\n",
    "chain = prompt | model\n",
    "\n",
    "def handle_conversation():\n",
    "  context = \"\" # to store histories\n",
    "  print(\"Welcome to the AI Chatbot! type 'exit' to quit.\")\n",
    "  while True:\n",
    "    user_input = input(\"You: \")\n",
    "\n",
    "    if user_input.lower() == \"exit\":\n",
    "      break\n",
    "\n",
    "    result = chain.invoke({\n",
    "      \"context\": context,\n",
    "      \"question\": user_input\n",
    "    })\n",
    "    print(\"AI: \", result)\n",
    "\n",
    "    context += f\"\\nUser: {user_input}\\nAI:$ {result}\"\n",
    "\n",
    "if __name__ == \"__main__\":\n",
    "  handle_conversation()"
   ]
  }
 ],
 "metadata": {
  "kernelspec": {
   "display_name": "chatbot",
   "language": "python",
   "name": "python3"
  },
  "language_info": {
   "codemirror_mode": {
    "name": "ipython",
    "version": 3
   },
   "file_extension": ".py",
   "mimetype": "text/x-python",
   "name": "python",
   "nbconvert_exporter": "python",
   "pygments_lexer": "ipython3",
   "version": "3.10.12"
  }
 },
 "nbformat": 4,
 "nbformat_minor": 2
}
